{
 "cells": [
  {
   "cell_type": "code",
   "execution_count": 19,
   "id": "4cbbf969-c216-427b-b312-a955b5e6e88f",
   "metadata": {
    "scrolled": true
   },
   "outputs": [
    {
     "data": {
      "text/html": [
       "<div>\n",
       "<style scoped>\n",
       "    .dataframe tbody tr th:only-of-type {\n",
       "        vertical-align: middle;\n",
       "    }\n",
       "\n",
       "    .dataframe tbody tr th {\n",
       "        vertical-align: top;\n",
       "    }\n",
       "\n",
       "    .dataframe thead th {\n",
       "        text-align: right;\n",
       "    }\n",
       "</style>\n",
       "<table border=\"1\" class=\"dataframe\">\n",
       "  <thead>\n",
       "    <tr style=\"text-align: right;\">\n",
       "      <th></th>\n",
       "      <th>id</th>\n",
       "      <th>title</th>\n",
       "      <th>genres</th>\n",
       "      <th>averageRating</th>\n",
       "      <th>numVotes</th>\n",
       "      <th>releaseYear</th>\n",
       "    </tr>\n",
       "  </thead>\n",
       "  <tbody>\n",
       "    <tr>\n",
       "      <th>0</th>\n",
       "      <td>tt34604827</td>\n",
       "      <td>Fire</td>\n",
       "      <td>Crime</td>\n",
       "      <td>9.5</td>\n",
       "      <td>10121</td>\n",
       "      <td>2025</td>\n",
       "    </tr>\n",
       "    <tr>\n",
       "      <th>1</th>\n",
       "      <td>tt0111161</td>\n",
       "      <td>The Shawshank Redemption</td>\n",
       "      <td>Drama</td>\n",
       "      <td>9.3</td>\n",
       "      <td>3009622</td>\n",
       "      <td>1994</td>\n",
       "    </tr>\n",
       "    <tr>\n",
       "      <th>2</th>\n",
       "      <td>tt33175825</td>\n",
       "      <td>Attack on Titan the Movie: The Last Attack</td>\n",
       "      <td>Action, Animation, Drama</td>\n",
       "      <td>9.3</td>\n",
       "      <td>11990</td>\n",
       "      <td>2024</td>\n",
       "    </tr>\n",
       "    <tr>\n",
       "      <th>3</th>\n",
       "      <td>tt0068646</td>\n",
       "      <td>The Godfather</td>\n",
       "      <td>Crime, Drama</td>\n",
       "      <td>9.2</td>\n",
       "      <td>2100110</td>\n",
       "      <td>1972</td>\n",
       "    </tr>\n",
       "    <tr>\n",
       "      <th>4</th>\n",
       "      <td>tt0252487</td>\n",
       "      <td>The Chaos Class</td>\n",
       "      <td>Comedy</td>\n",
       "      <td>9.2</td>\n",
       "      <td>44120</td>\n",
       "      <td>1975</td>\n",
       "    </tr>\n",
       "  </tbody>\n",
       "</table>\n",
       "</div>"
      ],
      "text/plain": [
       "           id                                       title  \\\n",
       "0  tt34604827                                        Fire   \n",
       "1   tt0111161                    The Shawshank Redemption   \n",
       "2  tt33175825  Attack on Titan the Movie: The Last Attack   \n",
       "3   tt0068646                               The Godfather   \n",
       "4   tt0252487                             The Chaos Class   \n",
       "\n",
       "                     genres  averageRating  numVotes  releaseYear  \n",
       "0                     Crime            9.5     10121         2025  \n",
       "1                     Drama            9.3   3009622         1994  \n",
       "2  Action, Animation, Drama            9.3     11990         2024  \n",
       "3              Crime, Drama            9.2   2100110         1972  \n",
       "4                    Comedy            9.2     44120         1975  "
      ]
     },
     "execution_count": 19,
     "metadata": {},
     "output_type": "execute_result"
    }
   ],
   "source": [
    "import pandas as pd\n",
    "import os\n",
    "from sklearn.feature_extraction.text import TfidfVectorizer\n",
    "from sklearn.metrics.pairwise import cosine_similarity\n",
    "\n",
    "data_path = os.path.join(\"data\", \"movie-data.csv\")\n",
    "df = pd.read_csv(data_path)\n",
    "df.head()"
   ]
  },
  {
   "cell_type": "code",
   "execution_count": 20,
   "id": "d9d93087-fe35-4ef2-9d71-759cc23cfca5",
   "metadata": {},
   "outputs": [],
   "source": [
    "# 1. Combine relevant text columns into a single string\n",
    "df['combined_text'] = df['title'].fillna('') + \" \" + df['genres'].fillna('')"
   ]
  },
  {
   "cell_type": "code",
   "execution_count": 21,
   "id": "6558e94e-a8e7-4705-8430-8e0ebce2c68b",
   "metadata": {},
   "outputs": [],
   "source": [
    "# 2. Initialize and fit the TfidfVectorizer\n",
    "vectorizer = TfidfVectorizer(stop_words='english')\n",
    "tfidf_matrix = vectorizer.fit_transform(df['combined_text'])"
   ]
  },
  {
   "cell_type": "code",
   "execution_count": 22,
   "id": "c99824e8-4c3d-4a7d-bdd9-533e04c27a4f",
   "metadata": {},
   "outputs": [],
   "source": [
    "def recommend_items(query, top_n=5):\n",
    "    # 3A. Transform the query into a TF-IDF vector\n",
    "    query_vector = vectorizer.transform([query])\n",
    "    \n",
    "    # 3B. Compute cosine similarity between query_vector and all item vectors\n",
    "    sim_scores = cosine_similarity(query_vector, tfidf_matrix).flatten()\n",
    "    \n",
    "    # 3C. Get indices of the top_n most similar items\n",
    "    top_indices = sim_scores.argsort()[::-1][:top_n]\n",
    "    \n",
    "    # 3D. Retrieve those items from the DataFrame\n",
    "    top_items = df.iloc[top_indices].copy()\n",
    "    top_items['similarity'] = sim_scores[top_indices]\n",
    "    \n",
    "    return top_items[['id', 'title', 'genres', 'similarity']]"
   ]
  },
  {
   "cell_type": "code",
   "execution_count": 23,
   "id": "30857573-3311-46d0-aa97-54b8c12e51af",
   "metadata": {
    "scrolled": true
   },
   "outputs": [
    {
     "data": {
      "text/html": [
       "<div>\n",
       "<style scoped>\n",
       "    .dataframe tbody tr th:only-of-type {\n",
       "        vertical-align: middle;\n",
       "    }\n",
       "\n",
       "    .dataframe tbody tr th {\n",
       "        vertical-align: top;\n",
       "    }\n",
       "\n",
       "    .dataframe thead th {\n",
       "        text-align: right;\n",
       "    }\n",
       "</style>\n",
       "<table border=\"1\" class=\"dataframe\">\n",
       "  <thead>\n",
       "    <tr style=\"text-align: right;\">\n",
       "      <th></th>\n",
       "      <th>id</th>\n",
       "      <th>title</th>\n",
       "      <th>genres</th>\n",
       "      <th>similarity</th>\n",
       "    </tr>\n",
       "  </thead>\n",
       "  <tbody>\n",
       "    <tr>\n",
       "      <th>720</th>\n",
       "      <td>tt1128075</td>\n",
       "      <td>Love Exposure</td>\n",
       "      <td>Action, Comedy, Drama</td>\n",
       "      <td>0.417728</td>\n",
       "    </tr>\n",
       "    <tr>\n",
       "      <th>184</th>\n",
       "      <td>tt0062622</td>\n",
       "      <td>2001: A Space Odyssey</td>\n",
       "      <td>Adventure, Sci-Fi</td>\n",
       "      <td>0.386343</td>\n",
       "    </tr>\n",
       "    <tr>\n",
       "      <th>952</th>\n",
       "      <td>tt0113703</td>\n",
       "      <td>Love Letter</td>\n",
       "      <td>Drama, Romance</td>\n",
       "      <td>0.365917</td>\n",
       "    </tr>\n",
       "    <tr>\n",
       "      <th>436</th>\n",
       "      <td>tt0118694</td>\n",
       "      <td>In the Mood for Love</td>\n",
       "      <td>Drama, Romance</td>\n",
       "      <td>0.347219</td>\n",
       "    </tr>\n",
       "    <tr>\n",
       "      <th>723</th>\n",
       "      <td>tt22488728</td>\n",
       "      <td>Love Today</td>\n",
       "      <td>Comedy, Drama, Romance</td>\n",
       "      <td>0.335965</td>\n",
       "    </tr>\n",
       "  </tbody>\n",
       "</table>\n",
       "</div>"
      ],
      "text/plain": [
       "             id                  title                  genres  similarity\n",
       "720   tt1128075          Love Exposure   Action, Comedy, Drama    0.417728\n",
       "184   tt0062622  2001: A Space Odyssey       Adventure, Sci-Fi    0.386343\n",
       "952   tt0113703            Love Letter          Drama, Romance    0.365917\n",
       "436   tt0118694   In the Mood for Love          Drama, Romance    0.347219\n",
       "723  tt22488728             Love Today  Comedy, Drama, Romance    0.335965"
      ]
     },
     "execution_count": 23,
     "metadata": {},
     "output_type": "execute_result"
    }
   ],
   "source": [
    "user_query = \"I love thrilling action movies set in space, with a comedic twist.\"\n",
    "results = recommend_items(user_query, top_n=5)\n",
    "results"
   ]
  }
 ],
 "metadata": {
  "kernelspec": {
   "display_name": "Python (venv)",
   "language": "python",
   "name": "venv"
  },
  "language_info": {
   "codemirror_mode": {
    "name": "ipython",
    "version": 3
   },
   "file_extension": ".py",
   "mimetype": "text/x-python",
   "name": "python",
   "nbconvert_exporter": "python",
   "pygments_lexer": "ipython3",
   "version": "3.13.2"
  }
 },
 "nbformat": 4,
 "nbformat_minor": 5
}
